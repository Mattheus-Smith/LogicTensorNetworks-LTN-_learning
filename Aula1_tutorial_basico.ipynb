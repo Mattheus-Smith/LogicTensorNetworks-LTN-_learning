{
 "cells": [
  {
   "cell_type": "markdown",
   "source": [
    "link da aula: https://nbviewer.org/github/logictensornetworks/logictensornetworks/blob/master/tutorials/1-grounding_non_logical_symbols.ipynb"
   ],
   "metadata": {
    "collapsed": false,
    "pycharm": {
     "name": "#%% md\n"
    }
   }
  },
  {
   "cell_type": "code",
   "execution_count": 2,
   "outputs": [],
   "source": [
    "import ltn\n",
    "import tensorflow as tf\n",
    "import numpy as np"
   ],
   "metadata": {
    "collapsed": false,
    "pycharm": {
     "name": "#%%\n"
    }
   }
  },
  {
   "cell_type": "markdown",
   "source": [
    "Constantes"
   ],
   "metadata": {
    "collapsed": false,
    "pycharm": {
     "name": "#%% md\n"
    }
   }
  },
  {
   "cell_type": "code",
   "execution_count": 3,
   "outputs": [],
   "source": [
    "c1 = ltn.Constant([2.1,3], trainable=False)\n",
    "c2 = ltn.Constant([[4.2,3,2.5],[4,-1.3,1.8]], trainable=False)\n",
    "c3 = ltn.Constant([0.,0.], trainable=True)"
   ],
   "metadata": {
    "collapsed": false,
    "pycharm": {
     "name": "#%%\n"
    }
   }
  },
  {
   "cell_type": "code",
   "execution_count": 4,
   "outputs": [
    {
     "name": "stdout",
     "output_type": "stream",
     "text": [
      "ltn.Constant(tensor=[2.1 3. ], trainable=False, free_vars=[])\n",
      "tf.Tensor([2.1 3. ], shape=(2,), dtype=float32)\n",
      "ltn.Constant(tensor=<tf.Variable 'Variable:0' shape=(2,) dtype=float32, numpy=array([0., 0.], dtype=float32)>, trainable=True, free_vars=[])\n",
      "<tf.Variable 'Variable:0' shape=(2,) dtype=float32, numpy=array([0., 0.], dtype=float32)>\n"
     ]
    }
   ],
   "source": [
    "print(c1)\n",
    "print(c1.tensor)\n",
    "print(c3)\n",
    "print(c3.tensor)"
   ],
   "metadata": {
    "collapsed": false,
    "pycharm": {
     "name": "#%%\n"
    }
   }
  },
  {
   "cell_type": "markdown",
   "source": [
    "Predicatos"
   ],
   "metadata": {
    "collapsed": false,
    "pycharm": {
     "name": "#%% md\n"
    }
   }
  },
  {
   "cell_type": "code",
   "execution_count": 5,
   "outputs": [],
   "source": [
    "mu = tf.constant([2.,3.])\n",
    "P1 = ltn.Predicate.Lambda(lambda x: tf.exp(-tf.norm(x-mu,axis=1)))\n",
    "\n",
    "class ModelP2(tf.keras.Model):\n",
    "    \"\"\"For more info on how to use tf.keras.Model:\n",
    "    https://www.tensorflow.org/api_docs/python/tf/keras/Model\"\"\"\n",
    "    def __init__(self):\n",
    "        super(ModelP2, self).__init__()\n",
    "        self.dense1 = tf.keras.layers.Dense(5, activation=tf.nn.elu)\n",
    "        self.dense2 = tf.keras.layers.Dense(1, activation=tf.nn.sigmoid) # returns one value in [0,1]\n",
    "    def call(self, x):\n",
    "        x = self.dense1(x)\n",
    "        return self.dense2(x)\n",
    "\n",
    "modelP2 = ModelP2()\n",
    "P2 = ltn.Predicate(modelP2)"
   ],
   "metadata": {
    "collapsed": false,
    "pycharm": {
     "name": "#%%\n"
    }
   }
  },
  {
   "cell_type": "code",
   "execution_count": 6,
   "outputs": [
    {
     "name": "stdout",
     "output_type": "stream",
     "text": [
      "ltn.Formula(tensor=0.9048374891281128, free_vars=[])\n",
      "ltn.Formula(tensor=0.5473829507827759, free_vars=[])\n"
     ]
    }
   ],
   "source": [
    "c1 = ltn.Constant([2.1,3],trainable=False)\n",
    "c2 = ltn.Constant([4.5,0.8],trainable=False)\n",
    "\n",
    "print(P1(c1))\n",
    "print(P2(c1))"
   ],
   "metadata": {
    "collapsed": false,
    "pycharm": {
     "name": "#%%\n"
    }
   }
  },
  {
   "cell_type": "markdown",
   "source": [
    "Predcatos com varias entradas"
   ],
   "metadata": {
    "collapsed": false,
    "pycharm": {
     "name": "#%% md\n"
    }
   }
  },
  {
   "cell_type": "code",
   "execution_count": 7,
   "outputs": [
    {
     "name": "stdout",
     "output_type": "stream",
     "text": [
      "ltn.Formula(tensor=0.2072950303554535, free_vars=[])\n"
     ]
    }
   ],
   "source": [
    "class ModelP3(tf.keras.Model):\n",
    "    def __init__(self):\n",
    "        super(ModelP3, self).__init__()\n",
    "        self.dense1 = tf.keras.layers.Dense(5, activation=tf.nn.elu)\n",
    "        self.dense2 = tf.keras.layers.Dense(1, activation=tf.nn.sigmoid) # returns one value in [0,1]\n",
    "\n",
    "    def call(self, inputs):\n",
    "        x1, x2 = inputs[0], inputs[1] # multiple arguments are passed as a list\n",
    "        x = tf.concat([x1,x2],axis=1) # axis=0 is the batch axis\n",
    "        x = self.dense1(x)\n",
    "        return self.dense2(x)\n",
    "\n",
    "P3 = ltn.Predicate(ModelP3())\n",
    "print(P3([c1,c2])) # multiple arguments are passed as a list"
   ],
   "metadata": {
    "collapsed": false,
    "pycharm": {
     "name": "#%%\n"
    }
   }
  },
  {
   "cell_type": "markdown",
   "source": [
    "Funções"
   ],
   "metadata": {
    "collapsed": false,
    "pycharm": {
     "name": "#%% md\n"
    }
   }
  },
  {
   "cell_type": "code",
   "execution_count": 17,
   "outputs": [],
   "source": [
    "f1 = ltn.Function.Lambda(lambda args: args[0]-args[1])\n",
    "\n",
    "class MyModel(tf.keras.Model):\n",
    "    def __init__(self):\n",
    "        super(MyModel, self).__init__()\n",
    "        self.dense1 = tf.keras.layers.Dense(4, activation=tf.nn.relu)\n",
    "        self.dense2 = tf.keras.layers.Dense(5)\n",
    "    def call(self, x):\n",
    "        x = self.dense1(x)\n",
    "        return self.dense2(x)\n",
    "\n",
    "model_f2 = MyModel()\n",
    "f2 = ltn.Function(model_f2)"
   ],
   "metadata": {
    "collapsed": false,
    "pycharm": {
     "name": "#%%\n"
    }
   }
  },
  {
   "cell_type": "code",
   "execution_count": 18,
   "outputs": [
    {
     "name": "stdout",
     "output_type": "stream",
     "text": [
      "ltn.Term(tensor=[-2.4  2.2], free_vars=[])\n",
      "ltn.Term(tensor=[-0.10879046  1.1963565  -1.2033721   0.02323772 -1.0980843 ], free_vars=[])\n"
     ]
    }
   ],
   "source": [
    "c1 = ltn.Constant([2.1,3], trainable=False)\n",
    "c2 = ltn.Constant([4.5,0.8], trainable=False)\n",
    "print(f1([c1,c2])) # multiple arguments are passed as a list\n",
    "print(f2(c1))"
   ],
   "metadata": {
    "collapsed": false,
    "pycharm": {
     "name": "#%%\n"
    }
   }
  },
  {
   "cell_type": "code",
   "execution_count": 19,
   "outputs": [
    {
     "ename": "TypeError",
     "evalue": "The input to a LTN Function should be instances of <class 'ltn.core.Term'>. Got an instance of <class 'ltn.core.Formula'> instead.",
     "output_type": "error",
     "traceback": [
      "\u001B[1;31m---------------------------------------------------------------------------\u001B[0m",
      "\u001B[1;31mTypeError\u001B[0m                                 Traceback (most recent call last)",
      "\u001B[1;32m~\\AppData\\Local\\Temp\\ipykernel_13128\\3679405369.py\u001B[0m in \u001B[0;36m<module>\u001B[1;34m\u001B[0m\n\u001B[1;32m----> 1\u001B[1;33m \u001B[0mprint\u001B[0m\u001B[1;33m(\u001B[0m\u001B[0mf2\u001B[0m\u001B[1;33m(\u001B[0m\u001B[0mP3\u001B[0m\u001B[1;33m(\u001B[0m\u001B[1;33m[\u001B[0m\u001B[0mc1\u001B[0m\u001B[1;33m,\u001B[0m\u001B[0mc2\u001B[0m\u001B[1;33m]\u001B[0m\u001B[1;33m)\u001B[0m\u001B[1;33m)\u001B[0m\u001B[1;33m)\u001B[0m\u001B[1;33m\u001B[0m\u001B[1;33m\u001B[0m\u001B[0m\n\u001B[0m",
      "\u001B[1;32mH:\\SmithHD\\Documentos\\4-github\\LogicTensorNetworks(LTN)_learning\\venvLstmLearning\\lib\\site-packages\\ltn\\core.py\u001B[0m in \u001B[0;36m__call__\u001B[1;34m(self, inputs, *args, **kwargs)\u001B[0m\n\u001B[0;32m    219\u001B[0m             \u001B[1;32mif\u001B[0m \u001B[1;32mnot\u001B[0m \u001B[0misinstance\u001B[0m\u001B[1;33m(\u001B[0m\u001B[0minputs\u001B[0m\u001B[1;33m,\u001B[0m \u001B[0mTerm\u001B[0m\u001B[1;33m)\u001B[0m\u001B[1;33m:\u001B[0m\u001B[1;33m\u001B[0m\u001B[1;33m\u001B[0m\u001B[0m\n\u001B[0;32m    220\u001B[0m                 raise TypeError(\"The input to a LTN Function should be instances of %s. \"\\\n\u001B[1;32m--> 221\u001B[1;33m                         \"Got an instance of %s instead.\" % (Term, type(inputs)))\n\u001B[0m\u001B[0;32m    222\u001B[0m         \u001B[1;32melse\u001B[0m\u001B[1;33m:\u001B[0m\u001B[1;33m\u001B[0m\u001B[1;33m\u001B[0m\u001B[0m\n\u001B[0;32m    223\u001B[0m             \u001B[1;32mfor\u001B[0m \u001B[0mx\u001B[0m \u001B[1;32min\u001B[0m \u001B[0minputs\u001B[0m\u001B[1;33m:\u001B[0m\u001B[1;33m\u001B[0m\u001B[1;33m\u001B[0m\u001B[0m\n",
      "\u001B[1;31mTypeError\u001B[0m: The input to a LTN Function should be instances of <class 'ltn.core.Term'>. Got an instance of <class 'ltn.core.Formula'> instead."
     ]
    }
   ],
   "source": [
    "print(f2(P3([c1,c2])))"
   ],
   "metadata": {
    "collapsed": false,
    "pycharm": {
     "name": "#%%\n"
    }
   }
  },
  {
   "cell_type": "markdown",
   "source": [
    "Variaveis"
   ],
   "metadata": {
    "collapsed": false,
    "pycharm": {
     "name": "#%% md\n"
    }
   }
  },
  {
   "cell_type": "markdown",
   "source": [
    "faz a rotulação da varivel dos dados dado,\n",
    "No exemplo abaixo temos -> x = ltn.Variable('x',np.random.normal(0.,1.,(10,2)))\n",
    "Ele vai armazenar na variavel \"X\" uma sequencia de numeros aleatorios em forma de matriz 10x2"
   ],
   "metadata": {
    "collapsed": false,
    "pycharm": {
     "name": "#%% md\n"
    }
   }
  },
  {
   "cell_type": "code",
   "execution_count": 25,
   "outputs": [
    {
     "name": "stdout",
     "output_type": "stream",
     "text": [
      "ltn.Variable(label=x, tensor=[[ 0.7346985   0.65531373]\n",
      " [ 1.443111    1.6075578 ]\n",
      " [ 0.32270494 -0.26803637]\n",
      " [ 1.6647294  -0.5585481 ]\n",
      " [-1.1140903  -0.04859015]\n",
      " [-1.724438   -1.4043763 ]\n",
      " [ 0.9942487   0.69943327]\n",
      " [ 0.7251135  -1.5805838 ]\n",
      " [ 0.09729848  0.3634398 ]\n",
      " [ 0.05521763  0.22182561]], free_vars=['x'])\n"
     ]
    }
   ],
   "source": [
    "x = ltn.Variable('x',np.random.normal(0.,1.,(10,2)))\n",
    "y = ltn.Variable('y',np.random.normal(0.,4.,(5,2)))\n",
    "\n",
    "print(x)"
   ],
   "metadata": {
    "collapsed": false,
    "pycharm": {
     "name": "#%%\n"
    }
   }
  },
  {
   "cell_type": "markdown",
   "source": [
    "O codigo abaixo usar o predicato 3(que aceita mais de 1 entrada)"
   ],
   "metadata": {
    "collapsed": false,
    "pycharm": {
     "name": "#%% md\n"
    }
   }
  },
  {
   "cell_type": "code",
   "execution_count": 28,
   "outputs": [
    {
     "name": "stdout",
     "output_type": "stream",
     "text": [
      "ltn.Formula(tensor=[[0.99920523 0.60689783 0.8370218  0.4459729  0.6495899 ]\n",
      " [0.9990158  0.5498914  0.8189362  0.3727268  0.61040914]\n",
      " [0.999444   0.7187543  0.8756635  0.6030621  0.732201  ]\n",
      " [0.9997559  0.88506705 0.9438298  0.82265717 0.876102  ]\n",
      " [0.9988156  0.50589055 0.77536696 0.35597456 0.5549041 ]\n",
      " [0.99937797 0.70662946 0.856322   0.6035395  0.70898175]\n",
      " [0.9992733  0.62930137 0.8478121  0.47210744 0.6687765 ]\n",
      " [0.9998232  0.9234639  0.9606038  0.88114506 0.91533333]\n",
      " [0.99910736 0.58020264 0.8207615  0.42106676 0.6239452 ]\n",
      " [0.99916106 0.59874326 0.82809305 0.4449879  0.63806903]], free_vars=['x', 'y'])\n",
      "ltn.Formula(tensor=0.9994440078735352, free_vars=[])\n"
     ]
    }
   ],
   "source": [
    "# Notice that the outcome is a 2 dimensional tensor where each cell\n",
    "# represents the satisfiability of P3 with each individual in x and in y.\n",
    "res1 = P3([x,y])\n",
    "print(res1)\n",
    "print(res1.take('x',2).take('y',0)) # gives the result calculated with the 3rd individual in x and the 1st individual in y\n",
    "#nesse print acima ele ta pegando na linha 3 o valor da coluna 1"
   ],
   "metadata": {
    "collapsed": false,
    "pycharm": {
     "name": "#%%\n"
    }
   }
  },
  {
   "cell_type": "markdown",
   "source": [
    "No codigo abaixo vamos usar a funcao 1(f1), dados os argumentos (x,y). Lembrando que f1, faz a subtração de x-y, no caso para cada elemento de x e y"
   ],
   "metadata": {
    "collapsed": false,
    "pycharm": {
     "name": "#%% md\n"
    }
   }
  },
  {
   "cell_type": "code",
   "execution_count": 29,
   "outputs": [
    {
     "name": "stdout",
     "output_type": "stream",
     "text": [
      "(10, 5, 2)\n",
      "['x', 'y']\n",
      "ltn.Term(tensor=[10.046727  2.39023 ], free_vars=[])\n"
     ]
    }
   ],
   "source": [
    "# This is also valid with the outputs of `ltn.Function`\n",
    "res2 = f1([x,y])\n",
    "print(res2.tensor.shape)\n",
    "print(res2.free_vars)\n",
    "print(res2.take('x',2).take('y',0)) # gives the result calculated with the 3rd individual in x and the 1st individual in y"
   ],
   "metadata": {
    "collapsed": false,
    "pycharm": {
     "name": "#%%\n"
    }
   }
  },
  {
   "cell_type": "code",
   "execution_count": 33,
   "outputs": [
    {
     "name": "stdout",
     "output_type": "stream",
     "text": [
      "ltn.Formula(tensor=[0.9984635  0.4786462  0.7827325  0.30179757 0.5453604 ], free_vars=['y'])\n"
     ]
    }
   ],
   "source": [
    "res3 = P3([c1,y])\n",
    "print(res3) # Notice that no axis is associated to a constant."
   ],
   "metadata": {
    "collapsed": false,
    "pycharm": {
     "name": "#%%\n"
    }
   }
  },
  {
   "cell_type": "markdown",
   "source": [
    "Variaveis feitas de constante treinaveis"
   ],
   "metadata": {
    "collapsed": false,
    "pycharm": {
     "name": "#%% md\n"
    }
   }
  },
  {
   "cell_type": "code",
   "execution_count": 34,
   "outputs": [
    {
     "data": {
      "text/plain": "array([ 0.10783625, -0.05137738], dtype=float32)"
     },
     "execution_count": 34,
     "metadata": {},
     "output_type": "execute_result"
    }
   ],
   "source": [
    "c1 = ltn.Constant([2.1,3], trainable=True)\n",
    "c2 = ltn.Constant([4.5,0.8], trainable=True)\n",
    "\n",
    "with tf.GradientTape() as tape:\n",
    "    # Notice that the assignation must be done within a tf.GradientTape.\n",
    "    # Tensorflow will keep track of the gradients between c1/c2 and x.\n",
    "    # Read tutorial 3 for more details.\n",
    "    x = ltn.Variable.from_constants(\"x\", [c1,c2], tape=tape)\n",
    "    res = P2(x)\n",
    "tape.gradient(res.tensor,c1.tensor).numpy() # the tape keeps track of gradients between P2(x), x and c1"
   ],
   "metadata": {
    "collapsed": false,
    "pycharm": {
     "name": "#%%\n"
    }
   }
  },
  {
   "cell_type": "code",
   "execution_count": null,
   "outputs": [],
   "source": [],
   "metadata": {
    "collapsed": false,
    "pycharm": {
     "name": "#%%\n"
    }
   }
  }
 ],
 "metadata": {
  "kernelspec": {
   "display_name": "Python 3",
   "language": "python",
   "name": "python3"
  },
  "language_info": {
   "codemirror_mode": {
    "name": "ipython",
    "version": 2
   },
   "file_extension": ".py",
   "mimetype": "text/x-python",
   "name": "python",
   "nbconvert_exporter": "python",
   "pygments_lexer": "ipython2",
   "version": "2.7.6"
  }
 },
 "nbformat": 4,
 "nbformat_minor": 0
}